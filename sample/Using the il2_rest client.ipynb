{
 "cells": [
  {
   "cell_type": "markdown",
   "metadata": {},
   "source": [
    "# The InterlockLedger RESTful API\n",
    "\n",
    "This notebook will show the usage of some features of the Python client of the InterlockLedger RESTful API."
   ]
  },
  {
   "cell_type": "code",
   "execution_count": null,
   "metadata": {},
   "outputs": [],
   "source": [
    "%load_ext autoreload\n",
    "%autoreload 2\n",
    "\n",
    "import sys\n",
    "sys.path.append('../')\n",
    "\n",
    "from il2_rest import RestNode\n",
    "\n",
    "# Comment these two lines if you want to show InsecureRequestWarnings\n",
    "import urllib3\n",
    "urllib3.disable_warnings(urllib3.exceptions.InsecureRequestWarning)\n"
   ]
  },
  {
   "cell_type": "markdown",
   "metadata": {},
   "source": [
    "## Getting an instance of a node\n",
    "\n",
    "To use the `il2_rest` client, you need to create an instance of the `RestNode` by passing a certificate file and the address of the node (default address is `localhost`). \n",
    "\n",
    "> The PKCS12 certificate must be already imported to the InterlockLedger node and be permissioned on the desired chain. See the InterlockLedger node manual.\n",
    "\n",
    "With the `RestNode` class, it is possible to retrieve details of the node, such as the list of valid apps in the network, peers, mirrors and chains."
   ]
  },
  {
   "cell_type": "code",
   "execution_count": null,
   "metadata": {},
   "outputs": [],
   "source": [
    "node = RestNode(cert_file = 'documenter.pfx', cert_pass = 'password', port = 32020)\n",
    "print(node.details)"
   ]
  },
  {
   "cell_type": "markdown",
   "metadata": {},
   "source": [
    "## Exploring the chains\n",
    "\n",
    "To see and store records and documents, you need to use an instance of the `RestChain`. You can get `RestChain` instances by retrieving the list of chains in the network:"
   ]
  },
  {
   "cell_type": "code",
   "execution_count": null,
   "metadata": {},
   "outputs": [],
   "source": [
    "chains = node.chains\n",
    "for chain in chains :\n",
    "    print(chain)"
   ]
  },
  {
   "cell_type": "markdown",
   "metadata": {},
   "source": [
    "## Checking the content of a chain\n",
    "\n",
    "By getting an instance of the `RestChain`, it is possible to retrieve and send information about the chain.\n",
    "\n",
    "On this example, we will use the chain with the following id (`chain_id` - change this to your il2 chain).\n",
    "It is possible to see the permitted apps and keys.\n",
    "It is also possible to check the records stored in the chain."
   ]
  },
  {
   "cell_type": "code",
   "execution_count": null,
   "metadata": {
    "scrolled": true
   },
   "outputs": [],
   "source": [
    "chain_id = 'A1wCG9hHhuVNb8hyOALHokYsWyTumHU0vRxtcK-iDKE'\n",
    "chain = node.chain_by_id(chain_id)\n",
    "\n",
    "print(chain.active_apps)\n",
    "\n",
    "for key in chain.permitted_keys :\n",
    "    print(key)\n",
    "\n",
    "for record in chain.records_from(firstSerial=0, lastSerial=2) :\n",
    "    print(record)"
   ]
  },
  {
   "cell_type": "markdown",
   "metadata": {},
   "source": [
    "This chain has the app 4 active, so it is also possible to check and store documents directly.\n",
    "Bellow we will be checking the list of the documents and getting the content of the documents using the `fileId`."
   ]
  },
  {
   "cell_type": "code",
   "execution_count": null,
   "metadata": {},
   "outputs": [],
   "source": [
    "for document in chain.documents :\n",
    "    print(document)\n",
    "\n",
    "document_bytes = chain.document_as_raw(fileId='WGWY2Xm-dTaLyu1IxZHv5WJBJFDI1lR5sBXMUVxyNwI#SHA256')\n",
    "print(document_bytes)"
   ]
  },
  {
   "cell_type": "markdown",
   "metadata": {},
   "source": [
    "## Managing Keys and Apps\n",
    "\n",
    "If your are using a certificate allowed to permit key, you can permit other keys in the chain. The `permit_keys` method will return the list of permitted keys in the chain.\n",
    "\n",
    "> To permit other keys, the certificate must be already imported to the Interlockledger node with actions for App #2 and actions 500,501."
   ]
  },
  {
   "cell_type": "code",
   "execution_count": null,
   "metadata": {},
   "outputs": [],
   "source": [
    "from il2_rest.models import KeyPermitModel\n",
    "from il2_rest.enumerations import KeyPurpose\n",
    "key_model = KeyPermitModel(app = 4, appActions = [1000, 1001], key_id = 'Key!MJ0kidltB324mfkiOG0aBlEocPA#SHA1',\n",
    "                   name = 'documenter', publicKey = 'PubKey!KPgQEPgItqh4hu-oJtc7pSX0jp0fYEkV_kazPxOPGxiv1YX6dbt1QNb9AFb3mYpgUE9lRsehQz9Keh80K3mxdsURZbyhACRo3ljjKKBOQY4aKIIje9yPTTnJqg0XwwyBsx1zb-qEQaWm6S5HsVvMipGSfZIhgf3R2RYOvKR8zJRr7M1h7yoPN-02wzY1wubUpmpVB6aI_wAinTfUhBxKTuOkpe6M8OhPM-W4RUC-Et22Z4SzYK9-w08PULDBl3hCD2F-0K7TnQk8j-_1K0zV9bd2v0WovdjMrWUtMmWGcJ3Z2bJpB3-0e9Q_MxVw89r1nhYnj8zVf36HV8oVBZk4axWhFbTDrxADAQAB#RSA',\n",
    "                   purposes = [KeyPurpose.Action, KeyPurpose.Protocol])\n",
    "\n",
    "keys = chain.permit_keys([key_model])\n",
    "for key in keys:\n",
    "    print(key)"
   ]
  },
  {
   "cell_type": "markdown",
   "metadata": {},
   "source": [
    "Similarly, you can permit apps using the following method. In this example we are trying to permit the app 4 (to store documents)."
   ]
  },
  {
   "cell_type": "code",
   "execution_count": null,
   "metadata": {},
   "outputs": [],
   "source": [
    "apps = chain.permit_apps([4])\n",
    "print(apps)"
   ]
  },
  {
   "cell_type": "markdown",
   "metadata": {},
   "source": [
    "## Storing Records\n",
    "\n",
    "It is possible to store documents using the model classes or using the unpacked method."
   ]
  },
  {
   "cell_type": "code",
   "execution_count": null,
   "metadata": {},
   "outputs": [],
   "source": [
    "from il2_rest.models import NewRecordModelAsJson\n",
    "from il2_rest.models import NewRecordModel\n",
    "\n",
    "model_json = NewRecordModelAsJson(applicationId = 1, payloadTagId = 300, rec_json= {'tagId': 300,'version' : 0, 'apps': [4]})\n",
    "record_json = chain.add_record_as_json(model = model_json)\n",
    "print(record_json)\n",
    "\n",
    "model_bytes = NewRecordModel(applicationId = 1, payloadTagId = 300, payloadBytes = bytes([248, 52, 7, 5, 0, 0, 20, 2, 1, 4]))\n",
    "record_bytes = chain.add_record(model_bytes)\n",
    "print(record_bytes)\n",
    "\n",
    "record_unpacked = chain.add_record_unpacked(applicationId = 1, payloadTagId = 300, rec_bytes = bytes([5, 0, 0, 20, 2, 1, 4]))\n",
    "print(record_unpacked)"
   ]
  },
  {
   "cell_type": "markdown",
   "metadata": {},
   "source": [
    "## Storing documents\n",
    "\n",
    "There are three ways to store a document: plain text, bytes or file. To store a text document you can use the following script:\n"
   ]
  },
  {
   "cell_type": "code",
   "execution_count": null,
   "metadata": {},
   "outputs": [],
   "source": [
    "from il2_rest.models import DocumentUploadModel\n",
    "\n",
    "doc_resp = chain.store_document_from_text(content = 'Plain text', name = 'text_file.txt')\n",
    "print(doc_resp)\n",
    "\n",
    "doc_bytes = chain.store_document_from_bytes(doc_bytes = b'Bytes message!', name = 'bytes_file.txt', content_type = 'plain/text')\n",
    "print(doc_bytes)\n",
    "\n",
    "doc_model = DocumentUploadModel(name = 'other_bytes_file.txt', contentType = 'plain/text')\n",
    "new_document = chain.store_document_from_bytes(doc_bytes = b'Other bytes message!', model = doc_model)\n",
    "print(new_document)\n",
    "\n",
    "doc_file = chain.store_document_from_file(file_path = './test.pdf', content_type = 'application/pdf')\n",
    "print(doc_file)"
   ]
  },
  {
   "cell_type": "markdown",
   "metadata": {},
   "source": [
    "## Interlockings\n",
    "\n",
    "It is also possible to check or force interlocks using the API."
   ]
  },
  {
   "cell_type": "code",
   "execution_count": null,
   "metadata": {},
   "outputs": [],
   "source": [
    "from il2_rest.models import ForceInterlockModel\n",
    "\n",
    "for interlock in chain.interlocks :\n",
    "    print(interlock)\n",
    "\n",
    "force_model = ForceInterlockModel(targetChain = '8fox30W54ZkzM-shfUeU5C7ad-_fsf5nICwNpkCUk5w')\n",
    "interlock_model = chain.force_interlock(model = force_model)\n",
    "print(interlock_model)"
   ]
  },
  {
   "cell_type": "code",
   "execution_count": null,
   "metadata": {},
   "outputs": [],
   "source": []
  }
 ],
 "metadata": {
  "kernelspec": {
   "display_name": "Python 3",
   "language": "python",
   "name": "python3"
  },
  "language_info": {
   "codemirror_mode": {
    "name": "ipython",
    "version": 3
   },
   "file_extension": ".py",
   "mimetype": "text/x-python",
   "name": "python",
   "nbconvert_exporter": "python",
   "pygments_lexer": "ipython3",
   "version": "3.6.9"
  }
 },
 "nbformat": 4,
 "nbformat_minor": 2
}
